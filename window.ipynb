{
 "cells": [
  {
   "cell_type": "code",
   "execution_count": 1,
   "metadata": {},
   "outputs": [],
   "source": [
    "import numpy as np\n",
    "import numpy.matlib\n",
    "import matplotlib.pyplot as plt\n",
    "import matplotlib.cm as cm\n",
    "%matplotlib inline\n",
    "\n",
    "import math\n",
    "import random\n",
    "import time\n",
    "import os\n",
    "from mdn2 import *\n",
    "\n",
    "import tensorflow as tf"
   ]
  },
  {
   "cell_type": "code",
   "execution_count": 2,
   "metadata": {},
   "outputs": [],
   "source": [
    "# Build a gaussian character window\n",
    "def build_gaussian_window(alpha, beta, kappa, c):\n",
    "    # Character sequence time steps\n",
    "    sequence_steps = c.get_shape()[1].value\n",
    "    phi = get_phi(alpha, beta, kappa, sequence_steps)\n",
    "    window = tf.matmul(phi, c)\n",
    "    window = tf.squeeze(window, [1])\n",
    "    return window, phi\n",
    "\n",
    "# Returns the phi (the weight for each character window mixture)\n",
    "def get_phi(alpha, beta, kappa, char_steps):\n",
    "    u = np.linspace(0, char_steps - 1, char_steps)\n",
    "    kappa_term = tf.square(kappa - u)\n",
    "    exp_term = tf.exp(-1*beta*kappa_term)\n",
    "    phi = tf.reduce_sum(tf.multiply(alpha, exp_term), 1, keep_dims = True)\n",
    "    return phi\n",
    "\n",
    "def get_window_coefficients(out_cell0, kmixtures, prev_kappa, initializer, reuse):\n",
    "    hidden = out_cell0.get_shape()[1]  \n",
    "    abk_out = 3*kmixtures\n",
    "    # use a different initialization for window weights\n",
    "    window_b_initializer = tf.truncated_normal_initializer(mean=-3.0, stddev=.25, seed=None, dtype=tf.float32)\n",
    "    with tf.variable_scope('window',reuse=reuse):\n",
    "        window_w = tf.get_variable(\"window_w\", [hidden, abk_out], initializer=initializer)  # [?, abk_out]\n",
    "        window_b = tf.get_variable(\"window_b\", [abk_out], initializer=window_b_initializer) # [abk_out]\n",
    "    abk_hat = tf.nn.xw_plus_b(out_cell0, window_w, window_b) # [abk_out, 1]\n",
    "    # Compute values of alpha beta kappa.\n",
    "    abk = tf.exp(tf.reshape(abk_hat, [-1, 3*kmixtures, 1]))\n",
    "    alpha, beta, kappa = tf.split(abk, 3, 1)\n",
    "    kappa = kappa + prev_kappa\n",
    "    return alpha, beta, kappa # [?, kmixtures, 1]\n",
    "    "
   ]
  },
  {
   "cell_type": "code",
   "execution_count": null,
   "metadata": {},
   "outputs": [],
   "source": []
  }
 ],
 "metadata": {
  "kernelspec": {
   "display_name": "Python 3",
   "language": "python",
   "name": "python3"
  },
  "language_info": {
   "codemirror_mode": {
    "name": "ipython",
    "version": 3
   },
   "file_extension": ".py",
   "mimetype": "text/x-python",
   "name": "python",
   "nbconvert_exporter": "python",
   "pygments_lexer": "ipython3",
   "version": "3.6.5"
  }
 },
 "nbformat": 4,
 "nbformat_minor": 2
}
